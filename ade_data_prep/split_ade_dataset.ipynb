{
 "cells": [
  {
   "cell_type": "code",
   "execution_count": 13,
   "id": "c15e650f",
   "metadata": {},
   "outputs": [
    {
     "name": "stdout",
     "output_type": "stream",
     "text": [
      "4272\n",
      "train: 3830\n",
      "test: 442\n"
     ]
    }
   ],
   "source": [
    "import json\n",
    "import random\n",
    "\n",
    "test = []\n",
    "train= []\n",
    "with open('ade_converted.json') as f:\n",
    "    d = json.load(f)\n",
    "    print(len(d))\n",
    "\n",
    "    for i in range(len(d)):\n",
    "        if random.random() < 0.9:\n",
    "            #train\n",
    "            train.append(d[i])\n",
    "        else:\n",
    "            #test\n",
    "            test.append(d[i])\n",
    "\n",
    "            \n",
    "print(\"train: \" + str(len(train)))\n",
    "print(\"test: \" + str(len(test)))\n",
    "\n",
    "with open('ade_converted_train.json', 'w') as f:\n",
    "    json.dump(train, f)\n",
    "    \n",
    "with open('ade_converted_test.json', 'w') as f:\n",
    "    json.dump(test, f)"
   ]
  },
  {
   "cell_type": "code",
   "execution_count": null,
   "id": "fc5d93a6",
   "metadata": {},
   "outputs": [],
   "source": []
  }
 ],
 "metadata": {
  "kernelspec": {
   "display_name": "Python 3 (ipykernel)",
   "language": "python",
   "name": "python3"
  },
  "language_info": {
   "codemirror_mode": {
    "name": "ipython",
    "version": 3
   },
   "file_extension": ".py",
   "mimetype": "text/x-python",
   "name": "python",
   "nbconvert_exporter": "python",
   "pygments_lexer": "ipython3",
   "version": "3.9.7"
  }
 },
 "nbformat": 4,
 "nbformat_minor": 5
}
